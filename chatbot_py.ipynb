{
  "nbformat": 4,
  "nbformat_minor": 0,
  "metadata": {
    "colab": {
      "provenance": [],
      "authorship_tag": "ABX9TyNrFY2A9yXbgi/jibDq8UVr",
      "include_colab_link": true
    },
    "kernelspec": {
      "name": "python3",
      "display_name": "Python 3"
    },
    "language_info": {
      "name": "python"
    }
  },
  "cells": [
    {
      "cell_type": "markdown",
      "metadata": {
        "id": "view-in-github",
        "colab_type": "text"
      },
      "source": [
        "<a href=\"https://colab.research.google.com/github/Preethika2003/chatbot/blob/main/chatbot_py.ipynb\" target=\"_parent\"><img src=\"https://colab.research.google.com/assets/colab-badge.svg\" alt=\"Open In Colab\"/></a>"
      ]
    },
    {
      "cell_type": "code",
      "execution_count": null,
      "metadata": {
        "id": "S6jPm4hs2xND"
      },
      "outputs": [],
      "source": []
    },
    {
      "cell_type": "code",
      "source": [
        "#chatbot\n",
        "def chatbot_response(user_input):\n",
        "    user_input = user_input.lower()\n",
        "    responses = {\n",
        "        \"hi\": \"Hello! How can I assist you today?\",\n",
        "        \"hello\": \"Hi there! What can I do for you?\",\n",
        "        \"hey\": \"Hey! How can I help?\",\n",
        "        \"good morning\": \"Good morning! How’s your day going?\",\n",
        "        \"good evening\": \"Good evening! How can I assist you?\",\n",
        "        \"bye\": \"Goodbye! Have a great day!\",\n",
        "        \"goodbye\": \"See you soon! Take care!\",\n",
        "        \"what is your name\": \"I'm a chatbot! You can call me ChatBuddy.\",\n",
        "        \"who are you\": \"I'm your friendly chatbot here to assist you.\",\n",
        "        \"where are you from\": \"I live in the cloud! ☁️\",\n",
        "        \"what can you do\": \"I can chat with you, answer simple questions, and keep you entertained!\",\n",
        "        \"how are you\": \"I'm just a chatbot, but I'm always good! How about you?\"\n",
        "    }\n",
        "\n",
        "    return responses.get(user_input, \"I'm sorry, I didn't understand that. Can you rephrase?\")\n",
        "while True:\n",
        "    user_message = input(\"You: \")\n",
        "\n",
        "    if user_message.lower() == \"exit\":\n",
        "        print(\"Chatbot: Exiting... Have a nice day!\")\n",
        "        break\n",
        "\n",
        "    response = chatbot_response(user_message)\n",
        "    print(\"Chatbot:\", response)\n"
      ],
      "metadata": {
        "id": "97X0bpJDYEbV"
      },
      "execution_count": null,
      "outputs": []
    }
  ]
}